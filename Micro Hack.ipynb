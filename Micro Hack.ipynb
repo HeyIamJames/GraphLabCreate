{
 "cells": [
  {
   "cell_type": "code",
   "execution_count": 1,
   "metadata": {
    "collapsed": false
   },
   "outputs": [
    {
     "name": "stderr",
     "output_type": "stream",
     "text": [
      "[INFO] \u001b[1;32m1450149926 : INFO:     (initialize_globals_from_environment:282): Setting configuration variable GRAPHLAB_FILEIO_ALTERNATIVE_SSL_CERT_FILE to /Users/jameshemmaplardh/.virtualenvs/GraphLab/lib/python2.7/site-packages/certifi/cacert.pem\n",
      "\u001b[0m\u001b[1;32m1450149926 : INFO:     (initialize_globals_from_environment:282): Setting configuration variable GRAPHLAB_FILEIO_ALTERNATIVE_SSL_CERT_DIR to \n",
      "\u001b[0mThis trial license of GraphLab Create is assigned to jameshemmaplardh@gmail.com and will expire on January 14, 2016. Please contact trial@dato.com for licensing options or to request a free non-commercial license for personal or academic use.\n",
      "\n",
      "[INFO] Start server at: ipc:///tmp/graphlab_server-1895 - Server binary: /Users/jameshemmaplardh/.virtualenvs/GraphLab/lib/python2.7/site-packages/graphlab/unity_server - Server log: /tmp/graphlab_server_1450149926.log\n",
      "[INFO] GraphLab Server Version: 1.7.1\n"
     ]
    },
    {
     "name": "stdout",
     "output_type": "stream",
     "text": [
      "SGraph({'num_edges': 1, 'num_vertices': 3})\n"
     ]
    }
   ],
   "source": [
    "from graphlab import SGraph, Vertex, Edge\n",
    "g = SGraph()\n",
    "verts = [Vertex(0, attr={'breed': 'labrador'}),\n",
    "         Vertex(1, attr={'breed': 'labrador'}),\n",
    "         Vertex(2, attr={'breed': 'vizsla'})]\n",
    "g = g.add_vertices(verts)\n",
    "g = g.add_edges(Edge(1, 2))\n",
    "print g"
   ]
  },
  {
   "cell_type": "code",
   "execution_count": null,
   "metadata": {
    "collapsed": false
   },
   "outputs": [],
   "source": []
  },
  {
   "cell_type": "code",
   "execution_count": 2,
   "metadata": {
    "collapsed": false
   },
   "outputs": [
    {
     "name": "stdout",
     "output_type": "stream",
     "text": [
      "PROGRESS: Downloading http://s3.amazonaws.com/dato-datasets/bond/bond_edges.csv to /var/tmp/graphlab-jameshemmaplardh/1895/f517b2e9-02da-4aef-879d-53c060bc6386.csv\n",
      "PROGRESS: Finished parsing file http://s3.amazonaws.com/dato-datasets/bond/bond_edges.csv\n",
      "PROGRESS: Parsing completed. Parsed 20 lines in 0.031808 secs.\n",
      "------------------------------------------------------\n",
      "Inferred types from first line of file as \n",
      "column_type_hints=[str,str,str]\n",
      "If parsing fails due to incorrect types, you can correct\n",
      "the inferred type list above and pass it to read_csv in\n",
      "the column_type_hints argument\n",
      "------------------------------------------------------\n",
      "PROGRESS: Finished parsing file http://s3.amazonaws.com/dato-datasets/bond/bond_edges.csv\n",
      "PROGRESS: Parsing completed. Parsed 20 lines in 0.008648 secs.\n",
      "SGraph({'num_edges': 20, 'num_vertices': 10})\n"
     ]
    }
   ],
   "source": [
    "from graphlab import SFrame\n",
    "edge_data = SFrame.read_csv(\n",
    "    'http://s3.amazonaws.com/dato-datasets/bond/bond_edges.csv')\n",
    "\n",
    "g = SGraph()\n",
    "g = g.add_edges(edge_data, src_field='src', dst_field='dst')\n",
    "print g"
   ]
  },
